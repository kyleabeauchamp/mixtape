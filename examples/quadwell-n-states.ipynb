{
 "metadata": {
  "name": "",
  "signature": "sha256:3062567cff840bcac8467016798ffaf29dc21a072500cdf53e6e1acce39f31ee"
 },
 "nbformat": 3,
 "nbformat_minor": 0,
 "worksheets": [
  {
   "cells": [
    {
     "cell_type": "markdown",
     "metadata": {},
     "source": [
      "This example demonstrates the use of randomized search to select the number of states via cross validation, using sklearn's `RandomizedSearchCV`."
     ]
    },
    {
     "cell_type": "code",
     "collapsed": false,
     "input": [
      "from __future__ import print_function\n",
      "%matplotlib inline\n",
      "import numpy as np\n",
      "import matplotlib.pyplot as pp\n",
      "import scipy.stats.distributions\n",
      "from mixtape.datasets import load_quadwell\n",
      "from mixtape.datasets import quadwell_eigs\n",
      "from mixtape.cluster import NDGrid\n",
      "from mixtape.markovstatemodel import MarkovStateModel\n",
      "from sklearn.pipeline import Pipeline\n",
      "from sklearn.grid_search import RandomizedSearchCV\n",
      "from mpld3 import display"
     ],
     "language": "python",
     "metadata": {},
     "outputs": []
    },
    {
     "cell_type": "code",
     "collapsed": false,
     "input": [
      "pipeline = Pipeline([\n",
      "    ('grid', NDGrid(min=-1.2, max=1.2)),\n",
      "    ('msm', MarkovStateModel(n_timescales=3, reversible_type='transpose', verbose=False)),\n",
      "])\n",
      "\n",
      "true_gmrq4 = quadwell_eigs(250)[0][:4].sum()"
     ],
     "language": "python",
     "metadata": {},
     "outputs": []
    },
    {
     "cell_type": "code",
     "collapsed": false,
     "input": [
      "search = RandomizedSearchCV(pipeline, n_iter=20, cv=5, refit=False, n_jobs=4, param_distributions={\n",
      "    'grid__n_bins_per_feature': scipy.stats.distributions.randint(10, 500),\n",
      "})\n",
      "\n",
      "# take only the first 500 data points from each trajectory.\n",
      "# this will create a smaller dataset that's easier to overfit,\n",
      "# by using too many states\n",
      "dataset = [t[0:500] for t in load_quadwell().trajectories]\n",
      "search.fit(dataset)"
     ],
     "language": "python",
     "metadata": {},
     "outputs": []
    },
    {
     "cell_type": "code",
     "collapsed": false,
     "input": [
      "scores = np.array([[np.mean(e.cv_validation_scores), np.std(e.cv_validation_scores), e.parameters['grid__n_bins_per_feature']] for e in search.grid_scores_])\n",
      "\n",
      "pp.scatter(scores[:,2], scores[:, 0])\n",
      "pp.plot(pp.xlim(), [search.best_score_]*2, 'k-.', label='best')\n",
      "\n",
      "pp.plot(pp.xlim(), [true_gmrq4]*2, 'k-', label='true')\n",
      "print('Best params:', search.best_params_)\n",
      "pp.legend(loc=4)\n",
      "display()"
     ],
     "language": "python",
     "metadata": {},
     "outputs": []
    },
    {
     "cell_type": "code",
     "collapsed": false,
     "input": [],
     "language": "python",
     "metadata": {},
     "outputs": []
    }
   ],
   "metadata": {}
  }
 ]
}