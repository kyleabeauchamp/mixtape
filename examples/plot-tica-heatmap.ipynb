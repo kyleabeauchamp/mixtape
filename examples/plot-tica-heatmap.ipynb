{
 "metadata": {
  "name": "",
  "signature": "sha256:4017e0433ed6377fcc3909ac64217a18ddb0549355d170b22ed212ef004537e1"
 },
 "nbformat": 3,
 "nbformat_minor": 0,
 "worksheets": [
  {
   "cells": [
    {
     "cell_type": "markdown",
     "metadata": {},
     "source": [
      "In this example, we plot a 2D projection of a protein dynamics dataset computed\n",
      "with `tICA`. The example also demonstrates the use of a `Pipeline` object to\n",
      "combine a featurizer (`AtomPairsFeaturizer`) and an estimator (`tICA`)."
     ]
    },
    {
     "cell_type": "code",
     "collapsed": false,
     "input": [
      "from __future__ import print_function\n",
      "import matplotlib.pyplot as pp\n",
      "from matplotlib.colors import LogNorm\n",
      "from mpld3 import plugins, display\n",
      "\n",
      "from mixtape.tica import tICA\n",
      "from mixtape.datasets import fetch_met_enkephalin\n",
      "from mixtape.featurizer import AtomPairsFeaturizer\n",
      "from sklearn.pipeline import Pipeline"
     ],
     "language": "python",
     "metadata": {},
     "outputs": []
    },
    {
     "cell_type": "code",
     "collapsed": false,
     "input": [
      "dataset = fetch_met_enkephalin()\n",
      "print(dataset.DESCR)"
     ],
     "language": "python",
     "metadata": {},
     "outputs": []
    },
    {
     "cell_type": "code",
     "collapsed": false,
     "input": [
      "def fit_and_plot(pipeline, trajectories):\n",
      "    transformed = pipeline.fit_transform(trajectories)\n",
      "    transformed = np.concatenate(transformed)\n",
      "\n",
      "    print('Eiegenvaue sum', pipeline.named_steps['tica'].eigenvalues_.sum())\n",
      "\n",
      "    x = transformed[:, 0]\n",
      "    y = transformed[:, 1]\n",
      "\n",
      "    pp.axes(axisbg='w')\n",
      "    pp.grid(False)\n",
      "    pp.hist2d(x, y, bins=100, cmap='hot_r', norm=LogNorm())\n",
      "    pp.xlabel('1st tIC')\n",
      "    pp.ylabel('2nd tIC')\n",
      "    pp.title('tICA Heatmap (log color scale)')\n",
      "    pp.colorbar()\n",
      "\n",
      "    plugins.connect(pp.gcf(), plugins.MousePosition(fontsize=14))"
     ],
     "language": "python",
     "metadata": {},
     "outputs": []
    },
    {
     "cell_type": "code",
     "collapsed": false,
     "input": [
      "# Get all pairs of non-hydrogen atoms\n",
      "from itertools import combinations\n",
      "heavy_atoms = [a.index for a in dataset.trajectories[0].top.atoms if a.element.symbol != 'H']\n",
      "heavy_pairs = list(combinations(heavy_atoms, 2))\n",
      "\n",
      " \n",
      "pipeline1 = Pipeline([\n",
      "    ('feat', AtomPairsFeaturizer(heavy_pairs)),\n",
      "    ('tica', tICA(gamma=0, n_components=2)),\n",
      "])\n",
      "\n",
      "fit_and_plot(pipeline1, dataset.trajectories)\n",
      "display()"
     ],
     "language": "python",
     "metadata": {},
     "outputs": []
    },
    {
     "cell_type": "code",
     "collapsed": false,
     "input": [],
     "language": "python",
     "metadata": {},
     "outputs": []
    }
   ],
   "metadata": {}
  }
 ]
}