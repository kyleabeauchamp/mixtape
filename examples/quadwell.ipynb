{
 "metadata": {
  "name": "",
  "signature": "sha256:179ac0403c8dfaa58b41e282250efc00ec9ffa58006f11904f393409f1605678"
 },
 "nbformat": 3,
 "nbformat_minor": 0,
 "worksheets": [
  {
   "cells": [
    {
     "cell_type": "code",
     "collapsed": false,
     "input": [
      "%matplotlib inline\n",
      "import numpy as np\n",
      "import matplotlib.pyplot as pp\n",
      "from mixtape.datasets import load_quadwell\n",
      "from mixtape.datasets import quadwell_eigs\n",
      "from mixtape.cluster import NDGrid\n",
      "from mixtape.markovstatemodel import MarkovStateModel\n",
      "from sklearn.pipeline import Pipeline\n",
      "from scikits import bootstrap"
     ],
     "language": "python",
     "metadata": {},
     "outputs": [],
     "prompt_number": 1
    },
    {
     "cell_type": "code",
     "collapsed": false,
     "input": [
      "dataset = load_quadwell(random_state=0)\n",
      "true_eigenvalues = quadwell_eigs(200)[0]\n",
      "true_timescales = -1 / np.log(true_eigenvalues[1:])\n",
      "help(load_quadwell)"
     ],
     "language": "python",
     "metadata": {},
     "outputs": [
      {
       "output_type": "stream",
       "stream": "stdout",
       "text": [
        "loading \"/home/rmcgibbo/mixtape_data/quadwell/version-0_random-state-0.pkl\"...\n",
        "Help on function load_quadwell in module mixtape.datasets.brownian1d:\n",
        "\n",
        "load_quadwell(data_home=None, random_state=None)\n",
        "    Loader for quad-well dataset\n",
        "    \n",
        "    Parameters\n",
        "    ----------\n",
        "    data_home : optional, default: None\n",
        "        Specify another cache folder for the datasets. By default\n",
        "        all mixtape data is stored in '~/mixtape_data' subfolders.\n",
        "    random_state : {int, None}, default: None\n",
        "        Seed the psuedorandom number generator to generate trajectories. If\n",
        "        seed is None, the global numpy PRNG is used. If random_state is an\n",
        "        int, the simulations will be cached in ``data_home``, or loaded from\n",
        "        ``data_home`` if simulations with that seed have been performed already.\n",
        "        With random_state=None, new simulations will be performed and the\n",
        "        trajectories will not be cached.\n",
        "    \n",
        "    Notes\n",
        "    -----\n",
        "    Brownian dynamics on a 1D four well potential\n",
        "    \n",
        "    This dataset consists of 100 trajectories simulated with Brownian dynamics\n",
        "    on the reduced potential function\n",
        "    \n",
        "        V = 4(x^8 + 0.8 exp(-80 x^2**2) + 0.2 exp(-80 (x-0.5)^2) + 0.5 exp(-40 (x+0.5)^2)).\n",
        "    \n",
        "    The simulations are governed by the stochastic differential equation\n",
        "    \n",
        "        dx_t/dt = -\\nabla V(x) + \\sqrt{2D} * R(t),\n",
        "    \n",
        "    where R(t) is a standard normal white-noise process, and D=1e3. The timsetep\n",
        "    is 1e-3. Each trajectory is 10^3 steps long, and starts from a random\n",
        "    initial point sampled from the uniform distribution on [-1, 1].\n"
       ]
      },
      {
       "output_type": "stream",
       "stream": "stdout",
       "text": [
        "\n"
       ]
      },
      {
       "output_type": "stream",
       "stream": "stderr",
       "text": [
        "-c:3: RuntimeWarning: invalid value encountered in log\n"
       ]
      }
     ],
     "prompt_number": 2
    },
    {
     "cell_type": "code",
     "collapsed": false,
     "input": [
      "def msm_timescales(trajectories, n_states):\n",
      "    pipeline = Pipeline([\n",
      "        ('grid', NDGrid(min=-1.2, max=1.2)),\n",
      "        ('msm', MarkovStateModel(n_timescales=4, reversible_type='transpose', verbose=False))\n",
      "    ])\n",
      "    pipeline.set_params(grid__n_bins_per_feature=n_states)\n",
      "    pipeline.fit(trajectories)\n",
      "    return pipeline.named_steps['msm'].timescales_\n",
      "\n",
      "n_states = [5, 10, 25, 50, 100, 250]\n",
      "ts = np.array([msm_timescales(dataset.trajectories, n) for n in n_states])\n",
      "confidence = np.array([bootstrap.ci(dataset.trajectories, lambda x: msm_timescales(x, n), n_samples=100) for n in n_states])"
     ],
     "language": "python",
     "metadata": {},
     "outputs": [
      {
       "output_type": "stream",
       "stream": "stderr",
       "text": [
        "/home/rmcgibbo/miniconda/lib/python2.7/site-packages/scikits/bootstrap/bootstrap.py:202: InstabilityWarning: Some values used top 10 low/high samples; results may be unstable.\n",
        "  warnings.warn(\"Some values used top 10 low/high samples; results may be unstable.\", InstabilityWarning)\n",
        "/home/rmcgibbo/miniconda/lib/python2.7/site-packages/scikits/bootstrap/bootstrap.py:202: InstabilityWarning: Some values used top 10 low/high samples; results may be unstable.\n",
        "  warnings.warn(\"Some values used top 10 low/high samples; results may be unstable.\", InstabilityWarning)\n"
       ]
      },
      {
       "output_type": "stream",
       "stream": "stderr",
       "text": [
        "/home/rmcgibbo/miniconda/lib/python2.7/site-packages/scikits/bootstrap/bootstrap.py:202: InstabilityWarning: Some values used top 10 low/high samples; results may be unstable.\n",
        "  warnings.warn(\"Some values used top 10 low/high samples; results may be unstable.\", InstabilityWarning)\n",
        "/home/rmcgibbo/miniconda/lib/python2.7/site-packages/scikits/bootstrap/bootstrap.py:202: InstabilityWarning: Some values used top 10 low/high samples; results may be unstable.\n",
        "  warnings.warn(\"Some values used top 10 low/high samples; results may be unstable.\", InstabilityWarning)\n"
       ]
      },
      {
       "output_type": "stream",
       "stream": "stderr",
       "text": [
        "/home/rmcgibbo/miniconda/lib/python2.7/site-packages/scikits/bootstrap/bootstrap.py:202: InstabilityWarning: Some values used top 10 low/high samples; results may be unstable.\n",
        "  warnings.warn(\"Some values used top 10 low/high samples; results may be unstable.\", InstabilityWarning)\n",
        "/home/rmcgibbo/miniconda/lib/python2.7/site-packages/scikits/bootstrap/bootstrap.py:202: InstabilityWarning: Some values used top 10 low/high samples; results may be unstable.\n",
        "  warnings.warn(\"Some values used top 10 low/high samples; results may be unstable.\", InstabilityWarning)\n"
       ]
      }
     ],
     "prompt_number": 4
    },
    {
     "cell_type": "code",
     "collapsed": false,
     "input": [
      "for i, c in enumerate(['b', 'r', 'm']):\n",
      "    pp.plot(n_states, ts[:, i], '%sx-' % c)\n",
      "    pp.fill_between(n_states, confidence[:, 0, i], confidence[:, 1, i], color=c, alpha=0.25)\n",
      "    pp.plot(pp.xlim(), [true_timescales[i]]*2, '%s--' % c, lw=2)  \n",
      "\n",
      "pp.xlabel('Number of states')\n",
      "pp.ylabel('Timescale (steps)')\n",
      "pp.show()"
     ],
     "language": "python",
     "metadata": {},
     "outputs": []
    },
    {
     "cell_type": "code",
     "collapsed": false,
     "input": [],
     "language": "python",
     "metadata": {},
     "outputs": []
    }
   ],
   "metadata": {}
  }
 ]
}