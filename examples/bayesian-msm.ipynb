{
 "metadata": {
  "name": "",
  "signature": "sha256:62e0df5f89b24c309f4b1c0741b776dcf341d6892c934012322dc9a1bd7bb6fd"
 },
 "nbformat": 3,
 "nbformat_minor": 0,
 "worksheets": [
  {
   "cells": [
    {
     "cell_type": "markdown",
     "metadata": {},
     "source": [
      "# `BayesianMarkovStateModel`\n",
      "\n",
      "This example demonstrates the class `BayesianMarkovStateModel`, which uses Metropolis Markov chain Monte Carlo (MCMC) to sample\n",
      "over the posterior distribution of transition matrices, given the observed transitions in your dataset. This can be useful\n",
      "for evaluating the uncertainty due to sampling in your dataset."
     ]
    },
    {
     "cell_type": "code",
     "collapsed": false,
     "input": [
      "import numpy as np\n",
      "from matplotlib.pyplot import *\n",
      "from mdtraj.utils import timing\n",
      "from mixtape.datasets import load_doublewell\n",
      "from mixtape.cluster import NDGrid\n",
      "from mixtape.markovstatemodel import BayesianMarkovStateModel, MarkovStateModel\n",
      "%matplotlib inline"
     ],
     "language": "python",
     "metadata": {},
     "outputs": []
    },
    {
     "cell_type": "markdown",
     "metadata": {},
     "source": [
      "## Load some double-well data"
     ]
    },
    {
     "cell_type": "code",
     "collapsed": false,
     "input": [
      "trjs = load_doublewell(random_state=0)['trajectories']\n",
      "hist(np.concatenate(trjs), bins=50, log=True)\n",
      "ylabel('Frequency')\n",
      "show()"
     ],
     "language": "python",
     "metadata": {},
     "outputs": []
    },
    {
     "cell_type": "markdown",
     "metadata": {},
     "source": [
      "## We'll discretize the space using 10 states\n",
      "\n",
      "And the build one MSM using the MLE transition matrix estimator, and one with the Bayesian estimator"
     ]
    },
    {
     "cell_type": "code",
     "collapsed": false,
     "input": [
      "clusterer = NDGrid(n_bins_per_feature=10)\n",
      "mle_msm = MarkovStateModel(lag_time=100)\n",
      "b_msm = BayesianMarkovStateModel(lag_time=100, n_samples=10000, n_steps=1000)\n",
      "\n",
      "states = clusterer.fit_transform(trjs)\n",
      "with timing('running mcmc'):\n",
      "    b_msm.fit(states)\n",
      "\n",
      "mle_msm.fit(states)"
     ],
     "language": "python",
     "metadata": {},
     "outputs": []
    },
    {
     "cell_type": "code",
     "collapsed": false,
     "input": [
      "subplot(2,1,1)\n",
      "plot(b_msm.all_transmats_[:, 0, 0])\n",
      "plot([0, b_msm.n_samples], [mle_msm.transmat_[0, 0]]*2, c='k')\n",
      "ylabel('t_00')\n",
      "\n",
      "subplot(2,1,2)\n",
      "ylabel('t_23')\n",
      "xlabel('MCMC Iteration')\n",
      "plot(b_msm.all_transmats_[:, 2, 3])\n",
      "plot([0, b_msm.n_samples], [mle_msm.transmat_[2, 3]]*2, c='k')"
     ],
     "language": "python",
     "metadata": {},
     "outputs": []
    },
    {
     "cell_type": "code",
     "collapsed": false,
     "input": [
      "plot(b_msm.all_timescales_[:, 0], label='MCMC')\n",
      "plot([0, b_msm.n_samples], [mle_msm.timescales_[0]]*2, c='k', label='MLE')\n",
      "legend()\n",
      "ylabel('Longest timescale')\n",
      "xlabel('MCMC iteration')"
     ],
     "language": "python",
     "metadata": {},
     "outputs": []
    },
    {
     "cell_type": "markdown",
     "metadata": {},
     "source": [
      "# Now lets try using 50 states\n",
      "\n",
      "The MCMC sampling is a lot harder to converge"
     ]
    },
    {
     "cell_type": "code",
     "collapsed": false,
     "input": [
      "clusterer = NDGrid(n_bins_per_feature=50)\n",
      "mle_msm = MarkovStateModel(lag_time=100)\n",
      "b_msm = BayesianMarkovStateModel(lag_time=100, n_samples=1000, n_steps=100000)\n",
      "\n",
      "states = clusterer.fit_transform(trjs)\n",
      "with timing('running mcmc (50 states)'):\n",
      "    b_msm.fit(states)\n",
      "\n",
      "mle_msm.fit(states)"
     ],
     "language": "python",
     "metadata": {},
     "outputs": []
    },
    {
     "cell_type": "code",
     "collapsed": false,
     "input": [
      "plot(b_msm.all_timescales_[:, 0], label='MCMC')\n",
      "plot([0, b_msm.n_samples], [mle_msm.timescales_[0]]*2, c='k', label='MLE')\n",
      "legend()\n",
      "ylabel('Longest timescale')\n",
      "xlabel('MCMC iteration')"
     ],
     "language": "python",
     "metadata": {},
     "outputs": []
    },
    {
     "cell_type": "code",
     "collapsed": false,
     "input": [
      "plot(b_msm.all_transmats_[:, 0, 0], label='MCMC')\n",
      "plot([0, b_msm.n_samples], [mle_msm.transmat_[0, 0]]*2, c='k', label='MLE')\n",
      "legend()\n",
      "ylabel('t_00')\n",
      "xlabel('MCMC iteration')"
     ],
     "language": "python",
     "metadata": {},
     "outputs": []
    },
    {
     "cell_type": "code",
     "collapsed": false,
     "input": [],
     "language": "python",
     "metadata": {},
     "outputs": []
    }
   ],
   "metadata": {}
  }
 ]
}