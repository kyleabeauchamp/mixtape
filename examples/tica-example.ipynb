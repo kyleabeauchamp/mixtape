{
 "metadata": {
  "name": "",
  "signature": "sha256:b503d06f5bb45742b62ea2c1fa56da28c1155b9fe9c46b9556db926b2575c5c9"
 },
 "nbformat": 3,
 "nbformat_minor": 0,
 "worksheets": [
  {
   "cells": [
    {
     "cell_type": "markdown",
     "metadata": {},
     "source": [
      "This example compares two methods for dimensionality reduction:\n",
      "tICA and PCA. "
     ]
    },
    {
     "cell_type": "code",
     "collapsed": false,
     "input": [
      "%pylab inline\n",
      "import triangle\n",
      "import numpy as np\n",
      "import simtk.openmm as mm\n",
      "from mixtape.tica import tICA\n",
      "from mixtape.pca import PCA"
     ],
     "language": "python",
     "metadata": {},
     "outputs": []
    },
    {
     "cell_type": "markdown",
     "metadata": {},
     "source": [
      "First, let's use OpenMM to run some dynamics on the 3D potential energy function \n",
      "\n",
      "$$E(x,y,z) = 5 \\cdot (x-1)^2 \\cdot (x+1)^2 + y^2 + z^2$$\n",
      "\n",
      "From looking at this equation, we can see that along the $x$ dimension,\n",
      "the potential is a double-well, whereas along the $y$ and $z$ dimensions,\n",
      "we've just got a harmonic potential. So, we should expect that $x$ is the slow\n",
      "degree of freedom, whereas the system should equilibrate rapidly along $y$ and $z$."
     ]
    },
    {
     "cell_type": "code",
     "collapsed": false,
     "input": [
      "def propagate(n_steps=10000):\n",
      "    \"Simulate some dynamics\"\n",
      "    system = mm.System()\n",
      "    system.addParticle(1)\n",
      "    force = mm.CustomExternalForce('5*(x-1)^2*(x+1)^2 + y^2 + z^2')\n",
      "    force.addParticle(0, [])\n",
      "    system.addForce(force)\n",
      "    integrator = mm.LangevinIntegrator(500, 1, 0.02)\n",
      "    context = mm.Context(system, integrator)\n",
      "    context.setPositions([[0, 0, 0]])\n",
      "    context.setVelocitiesToTemperature(500)\n",
      "    x = np.zeros((n_steps, 3))\n",
      "    for i in range(n_steps):\n",
      "        x[i] = context.getState(getPositions=True).getPositions(asNumpy=True)._value\n",
      "        integrator.step(1)\n",
      "    return x"
     ],
     "language": "python",
     "metadata": {},
     "outputs": []
    },
    {
     "cell_type": "markdown",
     "metadata": {},
     "source": [
      "Okay, let's run the dynamics. The first plot below shows the $x$, $y$ and $z$ coordinate vs. time for the trajectory, and\n",
      "the second plot shows each of the 1D and 2D marginal distributions."
     ]
    },
    {
     "cell_type": "code",
     "collapsed": false,
     "input": [
      "trajectory = propagate(10000)\n",
      "\n",
      "ylabels = ['x', 'y', 'z']\n",
      "for i in range(3):\n",
      "    subplot(3, 1, i+1)\n",
      "    plot(trajectory[:, i])\n",
      "    ylabel(ylabels[i])\n",
      "xlabel('Simulation time')\n",
      "show()\n",
      "\n",
      "triangle.corner(trajectory, labels=['x', 'y', 'z'], extents=[(-3, 3)]*3)\n",
      "show()"
     ],
     "language": "python",
     "metadata": {},
     "outputs": []
    },
    {
     "cell_type": "markdown",
     "metadata": {},
     "source": [
      "Note that the variance of $x$ is much lower than the variance in $y$ or $z$, despite it's bi-modal distribution."
     ]
    },
    {
     "cell_type": "code",
     "collapsed": false,
     "input": [
      "# fit the two models\n",
      "tica = tICA(n_components=1, lag_time=100)\n",
      "pca = PCA(n_components=1)\n",
      "tica.fit([trajectory])\n",
      "pca.fit([trajectory])"
     ],
     "language": "python",
     "metadata": {},
     "outputs": []
    },
    {
     "cell_type": "code",
     "collapsed": false,
     "input": [
      "subplot(1,2,1)\n",
      "title('1st tIC')\n",
      "bar([1,2,3], tica.components_[0], color='b')\n",
      "xticks([1.5,2.5,3.5], ['x', 'y', 'z'])\n",
      "subplot(1,2,2)\n",
      "title('1st PC')\n",
      "bar([1,2,3], pca.components_[0], color='r')\n",
      "xticks([1.5,2.5,3.5], ['x', 'y', 'z'])\n",
      "show()\n",
      "\n",
      "print '1st tIC', tica.components_ / np.linalg.norm(tica.components_)\n",
      "print '1st PC ', pca.components_ / np.linalg.norm(pca.components_)"
     ],
     "language": "python",
     "metadata": {},
     "outputs": []
    },
    {
     "cell_type": "markdown",
     "metadata": {},
     "source": [
      "Note that the first tIC \"finds\" a projection that just resolves the $x$ coordinate, whereas PCA doesn't."
     ]
    },
    {
     "cell_type": "code",
     "collapsed": false,
     "input": [],
     "language": "python",
     "metadata": {},
     "outputs": []
    }
   ],
   "metadata": {}
  }
 ]
}